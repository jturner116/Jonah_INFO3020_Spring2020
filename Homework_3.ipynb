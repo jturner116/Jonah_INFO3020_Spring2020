{
  "nbformat": 4,
  "nbformat_minor": 0,
  "metadata": {
    "colab": {
      "name": "Homework 3.ipynb",
      "provenance": [],
      "authorship_tag": "ABX9TyMl5slEFxRlzDUKVmy0pGQx",
      "include_colab_link": true
    },
    "kernelspec": {
      "name": "python3",
      "display_name": "Python 3"
    }
  },
  "cells": [
    {
      "cell_type": "markdown",
      "metadata": {
        "id": "view-in-github",
        "colab_type": "text"
      },
      "source": [
        "<a href=\"https://colab.research.google.com/github/jturner116/Jonah_INFO3020_Spring2020/blob/master/Homework_3.ipynb\" target=\"_parent\"><img src=\"https://colab.research.google.com/assets/colab-badge.svg\" alt=\"Open In Colab\"/></a>"
      ]
    },
    {
      "cell_type": "code",
      "metadata": {
        "id": "02tr_AfYFwry",
        "colab_type": "code",
        "colab": {
          "base_uri": "https://localhost:8080/",
          "height": 34
        },
        "outputId": "fecfcffe-2e45-4b10-ca97-b89959fc7885"
      },
      "source": [
        "#Day of the week selector\n",
        "day_int = int(input(\"Please enter the number that corresponds with the desired day: \"))\n",
        "\n"
      ],
      "execution_count": 20,
      "outputs": [
        {
          "output_type": "stream",
          "text": [
            "Please enter the number that corresponds with the desired day: 2\n"
          ],
          "name": "stdout"
        }
      ]
    },
    {
      "cell_type": "code",
      "metadata": {
        "id": "7EXNLrlAHLk8",
        "colab_type": "code",
        "colab": {
          "base_uri": "https://localhost:8080/",
          "height": 51
        },
        "outputId": "fe652a68-97ac-4f0b-97d3-b614e100c87b"
      },
      "source": [
        "print(day_int)\n",
        "if day_int == 0:\n",
        "    print(\"Sunday\")  \n",
        "elif day_int == 1:\n",
        "    print(\"Monday\")\n",
        "elif day_int == 2:\n",
        "    print(\"Tuesday\")\n",
        "elif day_int == 3:\n",
        "    print(\"Wednesday\")\n",
        "elif day_int == 4:\n",
        "    print(\"Thursday\")\n",
        "elif day_int == 5:\n",
        "    print(\"Friday\")\n",
        "elif day_int == 6:\n",
        "    print(\"Saturday\")\n",
        "\n"
      ],
      "execution_count": 21,
      "outputs": [
        {
          "output_type": "stream",
          "text": [
            "2\n",
            "Tuesday\n"
          ],
          "name": "stdout"
        }
      ]
    },
    {
      "cell_type": "code",
      "metadata": {
        "id": "7dDOkza1JTWQ",
        "colab_type": "code",
        "colab": {
          "base_uri": "https://localhost:8080/",
          "height": 68
        },
        "outputId": "28934b06-7387-4116-a713-4b2151964081"
      },
      "source": [
        "#Length of hypotneuse\n",
        "import math \n",
        "\n",
        "a = int(input(\"Please enter the length of the first side:\"))\n",
        "b = int(input(\"Please enter the length of the second side:\"))\n",
        "hyp = math.sqrt((a**2)+(b**2))\n",
        "print(\"The length of the hypotneuse is \", hyp)"
      ],
      "execution_count": 23,
      "outputs": [
        {
          "output_type": "stream",
          "text": [
            "Please enter the length of the first side:3\n",
            "Please enter the length of the second side:4\n",
            "The length of the hypotneuse is  5.0\n"
          ],
          "name": "stdout"
        }
      ]
    },
    {
      "cell_type": "code",
      "metadata": {
        "id": "h_RpLgrsKQw0",
        "colab_type": "code",
        "colab": {
          "base_uri": "https://localhost:8080/",
          "height": 85
        },
        "outputId": "b5cf41c9-cb61-4bbc-8d05-312bf62586ac"
      },
      "source": [
        "#Check if right triangle\n",
        "\n",
        "f = float(input(\"Enter the first side length: \"))\n",
        "g = float(input(\"Enter the second side length: \"))\n",
        "h = float(input(\"Enter the third side length: \"))\n",
        "if (f**2) + (g**2) == h**2:\n",
        "    print(\"True\")\n",
        "else:\n",
        "    print(\"False\")"
      ],
      "execution_count": 30,
      "outputs": [
        {
          "output_type": "stream",
          "text": [
            "Enter the first side length: 3\n",
            "Enter the second side length: 4\n",
            "Enter the third side length: 5\n",
            "True\n"
          ],
          "name": "stdout"
        }
      ]
    },
    {
      "cell_type": "code",
      "metadata": {
        "id": "M5YdOz27L5oj",
        "colab_type": "code",
        "colab": {
          "base_uri": "https://localhost:8080/",
          "height": 221
        },
        "outputId": "89b86ceb-8d9c-4d6a-fb31-0eb11987dc29"
      },
      "source": [
        "#4\n",
        "message = \"One of the months of the year is \"\n",
        "for i in (\"January\", \"February\", \"March\", \"April\", \"May\", \"June\", \"July\", \"August\", \"September\", \"October\", \"November\", \"December\"):\n",
        "    print(message + i)"
      ],
      "execution_count": 31,
      "outputs": [
        {
          "output_type": "stream",
          "text": [
            "One of the months of the year is January\n",
            "One of the months of the year is February\n",
            "One of the months of the year is March\n",
            "One of the months of the year is April\n",
            "One of the months of the year is May\n",
            "One of the months of the year is June\n",
            "One of the months of the year is July\n",
            "One of the months of the year is August\n",
            "One of the months of the year is September\n",
            "One of the months of the year is October\n",
            "One of the months of the year is November\n",
            "One of the months of the year is December\n"
          ],
          "name": "stdout"
        }
      ]
    },
    {
      "cell_type": "code",
      "metadata": {
        "id": "9FD-W4dKM2s0",
        "colab_type": "code",
        "colab": {
          "base_uri": "https://localhost:8080/",
          "height": 51
        },
        "outputId": "d688775e-7464-4127-ad72-d53f57afa8cd"
      },
      "source": [
        "#5\n",
        "total = 0\n",
        "for i in (12,10,32,3,66,17,42,99,20):\n",
        "    total = total + i\n",
        "\n",
        "print(total)\n",
        "product = 1\n",
        "for i in (12,10,32,3,66,17,42,99,20):\n",
        "    product = product * i\n",
        "\n",
        "print(product)"
      ],
      "execution_count": 35,
      "outputs": [
        {
          "output_type": "stream",
          "text": [
            "301\n",
            "1074879590400\n"
          ],
          "name": "stdout"
        }
      ]
    },
    {
      "cell_type": "code",
      "metadata": {
        "id": "FgNw5tniNqeh",
        "colab_type": "code",
        "colab": {}
      },
      "source": [
        "#6 - Draw an equilateral triangle and a hexagon\n",
        "import turtle\n",
        "\n",
        "#window=turtle.Screen()\n",
        "#window.title(\"Triangle and Hexagon\")\n",
        "turt=turtle.Turtle()\n",
        "\n",
        "#Triangle\n",
        "for i in range(2):\n",
        "  turt.forward(50)\n",
        "  turt.turn(120)\n",
        "\n",
        "#Hexagon\n",
        "for i in range(5):\n",
        "  turt.forward(50)\n",
        "  turt.turn(60)"
      ],
      "execution_count": 0,
      "outputs": []
    },
    {
      "cell_type": "code",
      "metadata": {
        "id": "bRiZMMknPLrM",
        "colab_type": "code",
        "colab": {}
      },
      "source": [
        "#7\n",
        "\n",
        "import turtle\n",
        "\n",
        "drunk=turtle.Turtle()\n",
        "\n",
        "for i in (160, -43, 270, -97, -43, 200, -940, 17, -86):\n",
        "  drunk.turn(i)\n",
        "  drunk.forward(100)"
      ],
      "execution_count": 0,
      "outputs": []
    },
    {
      "cell_type": "code",
      "metadata": {
        "id": "IrnjLZMvPjQZ",
        "colab_type": "code",
        "colab": {
          "base_uri": "https://localhost:8080/",
          "height": 34
        },
        "outputId": "fbf598f9-dd98-4e2d-fc70-79ae923f7fb2"
      },
      "source": [
        "#8\n",
        "i = 0\n",
        "total = 0\n",
        "for i in range(1000):\n",
        "  if i % 2 == 0:\n",
        "    total = total + 1\n",
        "print(total)"
      ],
      "execution_count": 39,
      "outputs": [
        {
          "output_type": "stream",
          "text": [
            "500\n"
          ],
          "name": "stdout"
        }
      ]
    }
  ]
}