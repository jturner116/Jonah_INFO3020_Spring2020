{
  "nbformat": 4,
  "nbformat_minor": 0,
  "metadata": {
    "colab": {
      "name": "3020_Final.ipynb",
      "provenance": [],
      "collapsed_sections": [],
      "authorship_tag": "ABX9TyMOrWOneY58KQVKSaquRmFr",
      "include_colab_link": true
    },
    "kernelspec": {
      "name": "python3",
      "display_name": "Python 3"
    }
  },
  "cells": [
    {
      "cell_type": "markdown",
      "metadata": {
        "id": "view-in-github",
        "colab_type": "text"
      },
      "source": [
        "<a href=\"https://colab.research.google.com/github/jturner116/Jonah_INFO3020_Spring2020/blob/master/3020_Final.ipynb\" target=\"_parent\"><img src=\"https://colab.research.google.com/assets/colab-badge.svg\" alt=\"Open In Colab\"/></a>"
      ]
    },
    {
      "cell_type": "markdown",
      "metadata": {
        "id": "Txz0BBGX9jFz",
        "colab_type": "text"
      },
      "source": [
        "Question 1"
      ]
    },
    {
      "cell_type": "code",
      "metadata": {
        "id": "4e5IJRNn8uXc",
        "colab_type": "code",
        "colab": {
          "base_uri": "https://localhost:8080/",
          "height": 51
        },
        "outputId": "facf4f85-0380-4207-a188-368c353dc474"
      },
      "source": [
        "def pstring():\n",
        "  s = input(\"Please input a string: \")\n",
        "  print(s)\n",
        "\n",
        "pstring()"
      ],
      "execution_count": 1,
      "outputs": [
        {
          "output_type": "stream",
          "text": [
            "Please input a string: hello world!\n",
            "hello world!\n"
          ],
          "name": "stdout"
        }
      ]
    },
    {
      "cell_type": "markdown",
      "metadata": {
        "id": "GtABBgx1992y",
        "colab_type": "text"
      },
      "source": [
        "Question 2"
      ]
    },
    {
      "cell_type": "code",
      "metadata": {
        "id": "XWP0aVTf9_Td",
        "colab_type": "code",
        "colab": {
          "base_uri": "https://localhost:8080/",
          "height": 34
        },
        "outputId": "c8054c57-9bab-413e-fe53-db03c4c02247"
      },
      "source": [
        "total = 0\n",
        "for i in range(1001):\n",
        "  if i%2 == 0:\n",
        "    total = total + i\n",
        "\n",
        "print(total)"
      ],
      "execution_count": 3,
      "outputs": [
        {
          "output_type": "stream",
          "text": [
            "250500\n"
          ],
          "name": "stdout"
        }
      ]
    },
    {
      "cell_type": "markdown",
      "metadata": {
        "id": "TkdPgwTM-bcX",
        "colab_type": "text"
      },
      "source": [
        "Question 3"
      ]
    },
    {
      "cell_type": "code",
      "metadata": {
        "id": "N0jNC9zG-cyI",
        "colab_type": "code",
        "colab": {
          "base_uri": "https://localhost:8080/",
          "height": 34
        },
        "outputId": "2efcb02d-9477-4627-f3ff-196d0d4fcb02"
      },
      "source": [
        "numbers=[12,10,3,2,[6,[7,8,9],19,21],21]\n",
        "def prod(nums):\n",
        "  product = 1\n",
        "  for i in nums:\n",
        "    if type(i) is list:\n",
        "      product = product*prod(i)\n",
        "    else:\n",
        "      product = product*i\n",
        "  return(product)\n",
        "    \n",
        "\n",
        "prod(numbers)\n"
      ],
      "execution_count": 14,
      "outputs": [
        {
          "output_type": "execute_result",
          "data": {
            "text/plain": [
              "18243429120"
            ]
          },
          "metadata": {
            "tags": []
          },
          "execution_count": 14
        }
      ]
    },
    {
      "cell_type": "markdown",
      "metadata": {
        "id": "J6QKK6fhKt0s",
        "colab_type": "text"
      },
      "source": [
        "Question 4"
      ]
    },
    {
      "cell_type": "code",
      "metadata": {
        "id": "2S0VQZdCKu1n",
        "colab_type": "code",
        "colab": {}
      },
      "source": [
        "matrix=[[23,43,12],[32,12,52],[15,35,52],[19,28,56]]\n",
        "\n",
        "import numpy as np\n",
        "def wmat():\n",
        "  mat = np.array(matrix)\n",
        "\n",
        "  mat[mat > 20] = 0\n",
        "\n",
        "  mat\n",
        "\n",
        "  with open(\"4.txt\", \"w\") as myfile:\n",
        "      myfile.write(str(mat))\n",
        "\n",
        "wmat()"
      ],
      "execution_count": 0,
      "outputs": []
    },
    {
      "cell_type": "markdown",
      "metadata": {
        "id": "6kJnaQ4Cru17",
        "colab_type": "text"
      },
      "source": [
        "Question 5"
      ]
    },
    {
      "cell_type": "code",
      "metadata": {
        "id": "LeixWOM0rwC0",
        "colab_type": "code",
        "colab": {
          "base_uri": "https://localhost:8080/",
          "height": 119
        },
        "outputId": "95f5df82-3e4f-4341-972c-2a47261d02ca"
      },
      "source": [
        "numbers=[1,3,2,4,2,3,2,2,3,2,2,4,2,32,3,2,4,2,3,5,3,2,4,2,2,4,2,2,4,2,2,3,1,3,2,3]\n",
        "\n",
        "def count(nums):\n",
        "    occurances = {}\n",
        "    for element in nums:\n",
        "        if element in occurances:\n",
        "            occurances[element] += 1\n",
        "        else:\n",
        "            occurances[element] = 1\n",
        "    for key,value in occurances.items():\n",
        "        print(\" %d  %d\"%(key, value))\n",
        "count(numbers)\n"
      ],
      "execution_count": 20,
      "outputs": [
        {
          "output_type": "stream",
          "text": [
            " 1  2\n",
            " 3  9\n",
            " 2  17\n",
            " 4  6\n",
            " 32  1\n",
            " 5  1\n"
          ],
          "name": "stdout"
        }
      ]
    },
    {
      "cell_type": "markdown",
      "metadata": {
        "id": "4EiQhFz-t4Fo",
        "colab_type": "text"
      },
      "source": [
        "Question 6"
      ]
    },
    {
      "cell_type": "code",
      "metadata": {
        "id": "NI99HANyt5U-",
        "colab_type": "code",
        "colab": {
          "base_uri": "https://localhost:8080/",
          "height": 34
        },
        "outputId": "97266202-8730-4d24-e853-35b789801981"
      },
      "source": [
        "class Point:\n",
        "\n",
        "    def __init__(self, x=0, y=0):\n",
        "        self.x=x\n",
        "        self.y=y\n",
        "\n",
        "    def __str__(self):\n",
        "        return \"The Point is ({0}, {1})\".format(self.x, self.y)\n",
        "\n",
        "    def __add__(self, other):\n",
        "        return Point(self.x+other.x, self.y+other.y)\n",
        "\n",
        "p=Point()\n",
        "q=Point(3,4)\n",
        "r=Point(3,3)\n",
        "\n",
        "print(q+r)"
      ],
      "execution_count": 21,
      "outputs": [
        {
          "output_type": "stream",
          "text": [
            "The Point is (6, 7)\n"
          ],
          "name": "stdout"
        }
      ]
    },
    {
      "cell_type": "markdown",
      "metadata": {
        "id": "jF8yctVm_kCv",
        "colab_type": "text"
      },
      "source": [
        "Question 7"
      ]
    },
    {
      "cell_type": "code",
      "metadata": {
        "id": "ppVN1pMp_lj2",
        "colab_type": "code",
        "colab": {}
      },
      "source": [
        "import pandas as pd\n",
        "\n",
        "filename = \"catering_sale_all.xls\"\n",
        "food_sheet1 = pd.read_excel(filename, sheet_name='Sheet1')\n",
        "\n",
        "print(food_sheet1.head())\n",
        "\n",
        "def foodbymonth():\n",
        "    fooddict = {'0': 'exit', '1': 'chicken feet', '2': 'steamed dumplings', '3': 'ribs', '4': 'full chicken', '5': 'stuffed bun', '6': 'flowering cabbage', '7': 'doufu', '8': 'chive dumplings', '9': 'pudding', '10': 'original cabbage'}\n",
        "    for key,value in fooddict.items():\n",
        "        print(\" %s %s\" %(key, value))\n",
        "    num = input(\"Please input a number in the list: \")\n",
        "    print(\"the total sale of {0} is {1}\".format(fooddict.get(str(num)), food_sheet1[fooddict.get(str(num))].sum()))\n",
        "    if num != 0:\n",
        "        foodbymonth()\n",
        "    else:\n",
        "        exit()\n",
        "foodbymonth()\n"
      ],
      "execution_count": 0,
      "outputs": []
    },
    {
      "cell_type": "markdown",
      "metadata": {
        "id": "g2X5IdfnFphG",
        "colab_type": "text"
      },
      "source": [
        "Question 8"
      ]
    },
    {
      "cell_type": "code",
      "metadata": {
        "id": "kumlARXGFqxO",
        "colab_type": "code",
        "colab": {}
      },
      "source": [
        "import pymysql\n",
        "def connect():\n",
        "    global db\n",
        "    db = pymysql.connect(\"localhost\", \"root\", \"MidasIsCute2000\", \"world\")\n",
        "\n",
        "\n",
        "def avglife():\n",
        "\n",
        "    dbcursor = db.cursor()\n",
        "\n",
        "    sql = \"select continent, AVG(lifeexpectancy) as avglife from country group by continent\"\n",
        "\n",
        "    command = dbcursor.execute(sql)\n",
        "    results = dbcursor.fetchall()\n",
        "\n",
        "    contlist = []\n",
        "    lifelist = []\n",
        "\n",
        "    for row in results:\n",
        "        contlist.append(row[0])\n",
        "        lifelist.append(row[1])\n",
        "    print(\" avglife | continent\")\n",
        "    for i in range(len(contlist)):\n",
        "        print(\" {0} | {1}\".format(lifelist[i], contlist[i]))\n",
        "\n",
        "    dbcursor.close()\n",
        "    db.close()\n",
        "\n",
        "\n",
        "connect()\n",
        "\n",
        "avglife()\n",
        "\n"
      ],
      "execution_count": 0,
      "outputs": []
    },
    {
      "cell_type": "markdown",
      "metadata": {
        "id": "ie40OApsLqap",
        "colab_type": "text"
      },
      "source": [
        "Question 9"
      ]
    },
    {
      "cell_type": "code",
      "metadata": {
        "id": "6TLn3zzxLsWq",
        "colab_type": "code",
        "colab": {}
      },
      "source": [
        "import pymysql\n",
        "import matplotlib\n",
        "from pylab import *\n",
        "def connect():\n",
        "    global db\n",
        "    db = pymysql.connect(\"localhost\", \"root\", \"MidasIsCute2000\", \"world\")\n",
        "\n",
        "def totalpop():\n",
        "    dbcursor = db.cursor()\n",
        "\n",
        "    sql = \"select continent, SUM(population) as totpop from country group by continent\"\n",
        "\n",
        "    command = dbcursor.execute(sql)\n",
        "    results = dbcursor.fetchall()\n",
        "\n",
        "    contlist = []\n",
        "    poplist = []\n",
        "\n",
        "    for row in results:\n",
        "        contlist.append(row[0])\n",
        "        poplist.append(row[1])\n",
        "\n",
        "    # print(contlist)\n",
        "    # print(poplist)\n",
        "    worldpop = sum(poplist)\n",
        "    # print(worldpop)\n",
        "    percentpop = [i / worldpop for i in poplist]\n",
        "    # print(percentpop)\n",
        "\n",
        "    #Pie chart\n",
        "    figure(1, figsize=(6,6))\n",
        "    ax = axes([.1,.1,.8,.8])\n",
        "\n",
        "    explode = (0.1,0.1,0.1,0.1,0.1,0.1,0.1)\n",
        "\n",
        "    pie(percentpop, explode=explode, labels=contlist, autopct='%1.1f%%', startangle=67)\n",
        "\n",
        "    title('population by continent')\n",
        "\n",
        "    show()\n",
        "\n",
        "connect()\n",
        "totalpop()"
      ],
      "execution_count": 0,
      "outputs": []
    },
    {
      "cell_type": "markdown",
      "metadata": {
        "id": "EB-KkIzefNUI",
        "colab_type": "text"
      },
      "source": [
        "Question 10 - this is the only one I had trouble with. Ran out of time to figure out why bar plot would not show. "
      ]
    },
    {
      "cell_type": "code",
      "metadata": {
        "id": "hbSRCbEMfOqx",
        "colab_type": "code",
        "colab": {}
      },
      "source": [
        "import pandas as pd\n",
        "import matplotlib.pyplot as plt\n",
        "\n",
        "\n",
        "filename = \"energy-production.csv\"\n",
        "\n",
        "df = pd.read_csv(filename)\n",
        "\n",
        "\n",
        "def energybreakdown(year):\n",
        "\n",
        "    rowlist = []\n",
        "    data = df.loc[df['Year'] == year, 'Solar/PV Energy':]\n",
        "    numlist = data.values\n",
        "    print(numlist)\n",
        "    for index in data:\n",
        "        rowlist.append(index)\n",
        "    columnlist = list(data.columns)\n",
        "    print(rowlist)\n",
        "\n",
        "\n",
        "    #Bar chart\n",
        "    x_pos = [i for i, _ in enumerate(rowlist)]\n",
        "\n",
        "    plt.bar(x_pos, numlist)\n",
        "    plt.xticks(x_pos, rowlist)\n",
        "    plt.show()\n",
        "\n",
        "\n",
        "energybreakdown(1980)"
      ],
      "execution_count": 0,
      "outputs": []
    }
  ]
}