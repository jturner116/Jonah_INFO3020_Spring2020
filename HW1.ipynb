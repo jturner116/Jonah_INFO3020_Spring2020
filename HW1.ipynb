{
  "nbformat": 4,
  "nbformat_minor": 0,
  "metadata": {
    "colab": {
      "name": "HW1.ipynb",
      "provenance": [],
      "collapsed_sections": [],
      "authorship_tag": "ABX9TyOB2upXa1yzUcswhTDEnsXK",
      "include_colab_link": true
    },
    "kernelspec": {
      "name": "python3",
      "display_name": "Python 3"
    }
  },
  "cells": [
    {
      "cell_type": "markdown",
      "metadata": {
        "id": "view-in-github",
        "colab_type": "text"
      },
      "source": [
        "<a href=\"https://colab.research.google.com/github/jturner116/Jonah_INFO3020_Spring2020/blob/master/HW1.ipynb\" target=\"_parent\"><img src=\"https://colab.research.google.com/assets/colab-badge.svg\" alt=\"Open In Colab\"/></a>"
      ]
    },
    {
      "cell_type": "code",
      "metadata": {
        "id": "K2Ct72GQWBay",
        "colab_type": "code",
        "colab": {
          "base_uri": "https://localhost:8080/",
          "height": 34
        },
        "outputId": "ffb3a4ac-e780-459f-91dd-43829bb51f78"
      },
      "source": [
        "a = \"All\"\n",
        "b = \"work\"\n",
        "c = \"and\"\n",
        "d = \"no\"\n",
        "e = \"play\"\n",
        "f = \"makes\"\n",
        "g = \"Jack\"\n",
        "h = \"a\"\n",
        "i = \"dull\"\n",
        "j = \"boy.\"\n",
        "\n",
        "print(a, b, c, d, e, f, g, h, i, j)"
      ],
      "execution_count": 8,
      "outputs": [
        {
          "output_type": "stream",
          "text": [
            "All work and no play makes Jack a dull boy.\n"
          ],
          "name": "stdout"
        }
      ]
    },
    {
      "cell_type": "code",
      "metadata": {
        "id": "204mlSjhXMLz",
        "colab_type": "code",
        "colab": {
          "base_uri": "https://localhost:8080/",
          "height": 68
        },
        "outputId": "fcaff4c0-3348-42e8-ece0-117392b3b85b"
      },
      "source": [
        "a = float(input(\"Please enter the value for a: \"))\n",
        "b = float(input(\"Please enter the value for b: \"))\n",
        "\n",
        "S = 3.14*(1+(a/b))**3\n",
        "\n",
        "print(S)"
      ],
      "execution_count": 11,
      "outputs": [
        {
          "output_type": "stream",
          "text": [
            "Please enter the value for a: 0\n",
            "Please enter the value for b: 5\n",
            "3.14\n"
          ],
          "name": "stdout"
        }
      ]
    }
  ]
}