{
  "nbformat": 4,
  "nbformat_minor": 0,
  "metadata": {
    "colab": {
      "name": "Homework6.ipynb",
      "provenance": [],
      "toc_visible": true,
      "authorship_tag": "ABX9TyN7aHhdwXKca9A6nNRXUKJ3",
      "include_colab_link": true
    },
    "kernelspec": {
      "name": "python3",
      "display_name": "Python 3"
    }
  },
  "cells": [
    {
      "cell_type": "markdown",
      "metadata": {
        "id": "view-in-github",
        "colab_type": "text"
      },
      "source": [
        "<a href=\"https://colab.research.google.com/github/jturner116/Jonah_INFO3020_Spring2020/blob/master/Homework6.ipynb\" target=\"_parent\"><img src=\"https://colab.research.google.com/assets/colab-badge.svg\" alt=\"Open In Colab\"/></a>"
      ]
    },
    {
      "cell_type": "code",
      "metadata": {
        "id": "a5pMkGQSr8hy",
        "colab_type": "code",
        "colab": {}
      },
      "source": [
        "import numpy as np\n",
        "\n",
        "\n",
        "def writeto(numstring):\n",
        "    with open(\"nums.txt\", \"w\") as numfile:\n",
        "        numfile.write(numstring)\n",
        "\n",
        "writeto(\"1, 2, 300, 4, 5, 600, 7, 800, 9, 1000, 110, 1189898\")\n",
        "\n",
        "\n",
        "def read_to_int():\n",
        "    with open(\"nums.txt\", \"r\") as stringnums:\n",
        "        nums = stringnums.read().split(',')\n",
        "        intnums = [int(i) for i in nums]\n",
        "        new_arr = []\n",
        "        for j in intnums:\n",
        "            if j>100:\n",
        "                new_arr.append(100)\n",
        "            else:\n",
        "                new_arr.append(j)\n",
        "    new_string = str(new_arr)\n",
        "    with open(\"newfile.txt\", \"w\") as writenew:\n",
        "        writenew.write(new_string)\n",
        "\n",
        "\n",
        "read_to_int()\n",
        "\n",
        "#--------------------------------------------------------------------------------------------------------------------"
      ],
      "execution_count": 0,
      "outputs": []
    },
    {
      "cell_type": "markdown",
      "metadata": {
        "id": "CxYDZflMsI1M",
        "colab_type": "text"
      },
      "source": [
        "Number 2"
      ]
    },
    {
      "cell_type": "code",
      "metadata": {
        "id": "nm9c7GSWsK7h",
        "colab_type": "code",
        "colab": {
          "base_uri": "https://localhost:8080/",
          "height": 51
        },
        "outputId": "330086e3-6aeb-488d-ac7a-26578ba3093f"
      },
      "source": [
        "#Number 2\n",
        "\n",
        "studentlist = (\n",
        "    (\"1133\", \"John\"),\n",
        "    (\"1144\", \"Mark\"),\n",
        "    (\"1155\", \"Rob\"),\n",
        "    (\"1166\", \"Jason\"),\n",
        "    (\"1177\", \"Andrew\"),\n",
        "    (\"1188\", \"Carl\"),\n",
        "    (\"1199\", \"Jonah\"),\n",
        "    (\"2000\", \"Rambo\"),\n",
        "    (\"2011\", \"Alice\"),\n",
        "    (\"2022\", \"Susan\")\n",
        ")\n",
        "\n",
        "def writestudents(s):\n",
        "    with open(\"students.txt\", \"w\") as stufile:\n",
        "        for i in s:\n",
        "            stufile.write(str(i))\n",
        "            stufile.write(\"\\n\")\n",
        "\n",
        "\n",
        "writestudents(studentlist)\n",
        "import random as rand\n",
        "def getrandstudent():\n",
        "    with open(\"students.txt\", \"r\") as sturead:\n",
        "       ind = rand.randrange(0,9)\n",
        "       lines = sturead.readlines()\n",
        "       print(lines[ind])\n",
        "\n",
        "getrandstudent()"
      ],
      "execution_count": 2,
      "outputs": [
        {
          "output_type": "stream",
          "text": [
            "('2000', 'Rambo')\n",
            "\n"
          ],
          "name": "stdout"
        }
      ]
    }
  ]
}