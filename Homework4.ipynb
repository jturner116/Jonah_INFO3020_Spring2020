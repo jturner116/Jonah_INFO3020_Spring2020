{
  "nbformat": 4,
  "nbformat_minor": 0,
  "metadata": {
    "colab": {
      "name": "Homework4.ipynb",
      "provenance": [],
      "collapsed_sections": [],
      "authorship_tag": "ABX9TyPeVzQ1E38oFE1cOtQ9vR48",
      "include_colab_link": true
    },
    "kernelspec": {
      "name": "python3",
      "display_name": "Python 3"
    }
  },
  "cells": [
    {
      "cell_type": "markdown",
      "metadata": {
        "id": "view-in-github",
        "colab_type": "text"
      },
      "source": [
        "<a href=\"https://colab.research.google.com/github/jturner116/Jonah_INFO3020_Spring2020/blob/master/Homework4.ipynb\" target=\"_parent\"><img src=\"https://colab.research.google.com/assets/colab-badge.svg\" alt=\"Open In Colab\"/></a>"
      ]
    },
    {
      "cell_type": "markdown",
      "metadata": {
        "id": "RhLX-6h9lwAZ",
        "colab_type": "text"
      },
      "source": [
        "Filename"
      ]
    },
    {
      "cell_type": "code",
      "metadata": {
        "id": "3aP-M3iKdyL_",
        "colab_type": "code",
        "outputId": "5fb683d9-0d4d-4330-bbc0-d687a4c473bb",
        "colab": {
          "base_uri": "https://localhost:8080/",
          "height": 51
        }
      },
      "source": [
        "file = input(\"Please enter a file name: \")\n",
        "\n",
        "\n",
        "def filename(file):\n",
        "    index = file.rfind(\".\")\n",
        "    if (file.rfind(\".\") == -1):\n",
        "        print(\"The filename was invalid.\")\n",
        "    else:\n",
        "        print(file[index+1:])\n",
        "\n",
        "filename(file)\n"
      ],
      "execution_count": 3,
      "outputs": [
        {
          "output_type": "stream",
          "text": [
            "Please enter a file name: randomfile.txt.doc\n",
            "doc\n"
          ],
          "name": "stdout"
        }
      ]
    },
    {
      "cell_type": "markdown",
      "metadata": {
        "id": "n2yG6qP4lsSb",
        "colab_type": "text"
      },
      "source": [
        "Replace"
      ]
    },
    {
      "cell_type": "code",
      "metadata": {
        "id": "IEOJ7aFPl19w",
        "colab_type": "code",
        "outputId": "06c5caed-27ae-4d9c-d927-b746d5659037",
        "colab": {
          "base_uri": "https://localhost:8080/",
          "height": 51
        }
      },
      "source": [
        "\n",
        "\n",
        "def replace(s, old, new):\n",
        "  new_s=\"\"\n",
        "  for i in s:\n",
        "    if (i != old):\n",
        "      new_s = new_s + i\n",
        "    else:\n",
        "      new_s = new_s + new\n",
        "  print(new_s)\n",
        "\n",
        "\n",
        "string = input(\"Enter a string: \")\n",
        "replace(string, \"a\", \"A\")\n",
        "\n",
        "\n",
        "\n",
        "\n",
        "    "
      ],
      "execution_count": 0,
      "outputs": [
        {
          "output_type": "stream",
          "text": [
            "Enter a string: Apples are always falling\n",
            "Apples Are AlwAys fAlling\n"
          ],
          "name": "stdout"
        }
      ]
    },
    {
      "cell_type": "markdown",
      "metadata": {
        "id": "HPfchEBhnl3B",
        "colab_type": "text"
      },
      "source": [
        "Assignment 1 - Draw clip"
      ]
    },
    {
      "cell_type": "code",
      "metadata": {
        "id": "rSBu4Kz0mGur",
        "colab_type": "code",
        "colab": {}
      },
      "source": [
        "import turtle\n",
        "\n",
        "def draw_clip():\n",
        "    square = turtle.Turtle()\n",
        "    square.speed(2)\n",
        "    length = 20\n",
        "    for _ in range(5):\n",
        "        square.penup()\n",
        "        square.forward(20)\n",
        "        square.right(90)\n",
        "        square.forward(20)\n",
        "        length = length + 40\n",
        "        square.right(180)\n",
        "        for _ in range(4):\n",
        "            square.pendown()\n",
        "            square.forward(length)\n",
        "            square.left(90)\n",
        "        square.right(90)\n",
        "window = turtle.Screen()\n",
        "draw_clip()\n",
        "window.mainloop()"
      ],
      "execution_count": 0,
      "outputs": []
    },
    {
      "cell_type": "markdown",
      "metadata": {
        "id": "cVBYyq54pb6L",
        "colab_type": "text"
      },
      "source": [
        "![alt text](https://drive.google.com/uc?id=1vnGNpP492NousTxRTr9EZe_mjcMANeI8)"
      ]
    },
    {
      "cell_type": "markdown",
      "metadata": {
        "id": "sOntMR8rnu6a",
        "colab_type": "text"
      },
      "source": [
        "Assignment 2 - Draw a maze!"
      ]
    },
    {
      "cell_type": "code",
      "metadata": {
        "id": "Sdocq-0Anx4_",
        "colab_type": "code",
        "colab": {}
      },
      "source": [
        "import turtle\n",
        "\n",
        "def maze():\n",
        "    line = turtle.Turtle()\n",
        "    line.speed(20)\n",
        "    length = 4\n",
        "    for _ in range(80):\n",
        "        line.right(90)\n",
        "        line.forward(length)\n",
        "        length = length + 2\n",
        "\n",
        "\n",
        "window = turtle.Screen()\n",
        "maze()\n",
        "window.mainloop()"
      ],
      "execution_count": 0,
      "outputs": []
    },
    {
      "cell_type": "markdown",
      "metadata": {
        "id": "myL2TZgUpgsG",
        "colab_type": "text"
      },
      "source": [
        "![alt text](https://drive.google.com/uc?id=1_NAf2bPfYYq3gX8w2IQ7smwpBq1Cpg6Z)"
      ]
    }
  ]
}