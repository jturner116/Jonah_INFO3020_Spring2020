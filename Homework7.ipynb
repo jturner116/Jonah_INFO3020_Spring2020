{
  "nbformat": 4,
  "nbformat_minor": 0,
  "metadata": {
    "colab": {
      "name": "Homework7.ipynb",
      "provenance": [],
      "authorship_tag": "ABX9TyOd8CPe+9lu/Xf/z6IVCcBI",
      "include_colab_link": true
    },
    "kernelspec": {
      "name": "python3",
      "display_name": "Python 3"
    }
  },
  "cells": [
    {
      "cell_type": "markdown",
      "metadata": {
        "id": "view-in-github",
        "colab_type": "text"
      },
      "source": [
        "<a href=\"https://colab.research.google.com/github/jturner116/Jonah_INFO3020_Spring2020/blob/master/Homework7.ipynb\" target=\"_parent\"><img src=\"https://colab.research.google.com/assets/colab-badge.svg\" alt=\"Open In Colab\"/></a>"
      ]
    },
    {
      "cell_type": "markdown",
      "metadata": {
        "id": "w9_ci-T93_3F",
        "colab_type": "text"
      },
      "source": [
        "1A"
      ]
    },
    {
      "cell_type": "code",
      "metadata": {
        "id": "8UdPKuXD37Zg",
        "colab_type": "code",
        "colab": {}
      },
      "source": [
        "import turtle\n",
        "\n",
        "def path(tortoise, squares, size):\n",
        "        if squares > 0:\n",
        "            tortoise.penup()\n",
        "            tortoise.forward(size*2)\n",
        "            tortoise.pendown()\n",
        "            for _ in range(4):\n",
        "                tortoise.forward(size)\n",
        "                tortoise.left(90)\n",
        "\n",
        "            path(tortoise, squares-1, size)\n",
        "        elif squares == 0:\n",
        "            turtle.penup()\n",
        "\n",
        "\n",
        "\n",
        "\n",
        "window = turtle.Screen()\n",
        "turtle = turtle.Turtle()\n",
        "\n",
        "path(turtle, 5, 20)\n",
        "window.mainloop()"
      ],
      "execution_count": 0,
      "outputs": []
    },
    {
      "cell_type": "markdown",
      "metadata": {
        "id": "j2HfLZX45wcx",
        "colab_type": "text"
      },
      "source": [
        "![alt text](https://drive.google.com/uc?id=1KqdhWgY_MNH3o2UEXAu4CZIiB3tDziul)"
      ]
    },
    {
      "cell_type": "markdown",
      "metadata": {
        "id": "ZFmboh7-39-j",
        "colab_type": "text"
      },
      "source": [
        "1B"
      ]
    },
    {
      "cell_type": "code",
      "metadata": {
        "id": "5aj6pZHE4IWr",
        "colab_type": "code",
        "colab": {}
      },
      "source": [
        "\n",
        "import turtle\n",
        "\n",
        "def clip(tortoise, boxes, size):\n",
        "    if boxes > 0:\n",
        "        for _ in range(4):\n",
        "            turtle.forward(size)\n",
        "            turtle.left(90)\n",
        "        turtle.left(225)\n",
        "        turtle.penup()\n",
        "        turtle.forward(10)\n",
        "        turtle.right(225)\n",
        "        turtle.pendown()\n",
        "        clip(tortoise, boxes-1, size+15)\n",
        "    elif boxes == 0:\n",
        "        turtle.penup()\n",
        "\n",
        "window = turtle.Screen()\n",
        "turtle = turtle.Turtle()\n",
        "\n",
        "clip(turtle, 5, 60)\n",
        "\n",
        "window.mainloop()"
      ],
      "execution_count": 0,
      "outputs": []
    },
    {
      "cell_type": "markdown",
      "metadata": {
        "id": "Xhu4zuEx4Zev",
        "colab_type": "text"
      },
      "source": [
        "![alt text](https://drive.google.com/uc?id=1HHhE9HO9nP-xcMhnOS6qE4P9FDjW1CJ8)"
      ]
    },
    {
      "cell_type": "markdown",
      "metadata": {
        "id": "x8RkgObd4Np6",
        "colab_type": "text"
      },
      "source": [
        "2"
      ]
    },
    {
      "cell_type": "code",
      "metadata": {
        "id": "AYfhSFWe4PVK",
        "colab_type": "code",
        "colab": {
          "base_uri": "https://localhost:8080/",
          "height": 34
        },
        "outputId": "59ff7883-df49-460f-d546-c34042305726"
      },
      "source": [
        "def count(nums):\n",
        "    num = 0\n",
        "    for element in nums:\n",
        "        if type(element) is list:\n",
        "            num+=count(element)\n",
        "        else:\n",
        "            num+=1\n",
        "    return num\n",
        "numlist = [[[[[1,2,3],1,2],3,4],[5,6],3],4,5]\n",
        "\n",
        "print(count(numlist))"
      ],
      "execution_count": 1,
      "outputs": [
        {
          "output_type": "stream",
          "text": [
            "12\n"
          ],
          "name": "stdout"
        }
      ]
    }
  ]
}