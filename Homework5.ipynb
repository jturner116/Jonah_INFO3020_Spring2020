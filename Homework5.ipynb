{
  "nbformat": 4,
  "nbformat_minor": 0,
  "metadata": {
    "colab": {
      "name": "Homework5.ipynb",
      "provenance": [],
      "collapsed_sections": [],
      "authorship_tag": "ABX9TyMnn0qHCoIIBiZb03p6vwvI",
      "include_colab_link": true
    },
    "kernelspec": {
      "name": "python3",
      "display_name": "Python 3"
    }
  },
  "cells": [
    {
      "cell_type": "markdown",
      "metadata": {
        "id": "view-in-github",
        "colab_type": "text"
      },
      "source": [
        "<a href=\"https://colab.research.google.com/github/jturner116/Jonah_INFO3020_Spring2020/blob/master/Homework5.ipynb\" target=\"_parent\"><img src=\"https://colab.research.google.com/assets/colab-badge.svg\" alt=\"Open In Colab\"/></a>"
      ]
    },
    {
      "cell_type": "markdown",
      "metadata": {
        "id": "Ca9o68ZBfuy1",
        "colab_type": "text"
      },
      "source": [
        "Tuple"
      ]
    },
    {
      "cell_type": "code",
      "metadata": {
        "id": "lKl5vINPfq-w",
        "colab_type": "code",
        "outputId": "99e34be7-d986-4458-9dae-6a652eb82696",
        "colab": {
          "base_uri": "https://localhost:8080/",
          "height": 34
        }
      },
      "source": [
        "students = (\n",
        "            (\"1133\", \"John\", [\"Math\", \"Science\"]),\n",
        "            (\"1144\", \"Mark\", [\"Art\", \"Music\"]),\n",
        "            (\"1155\", \"Robert\", [\"Music\", \"Literature\"])\n",
        ")\n",
        "\n",
        "def classes(name):\n",
        "  index = 0\n",
        "  for i in students:\n",
        "    if name in i:\n",
        "      print(students[index][2])\n",
        "    index = index + 1\n",
        "\n",
        "\n",
        "classes(\"Mark\")"
      ],
      "execution_count": 0,
      "outputs": [
        {
          "output_type": "stream",
          "text": [
            "['Art', 'Music']\n"
          ],
          "name": "stdout"
        }
      ]
    },
    {
      "cell_type": "markdown",
      "metadata": {
        "id": "JVwwbv1Aneye",
        "colab_type": "text"
      },
      "source": [
        "Assignment 2 - I don't know what my problem with this was. "
      ]
    },
    {
      "cell_type": "code",
      "metadata": {
        "id": "tdCJ5N8ZnkhW",
        "colab_type": "code",
        "outputId": "060c57d6-2b30-4e24-a47a-6888edafc2a7",
        "colab": {
          "base_uri": "https://localhost:8080/",
          "height": 136
        }
      },
      "source": [
        "def matrix(m,n):\n",
        "  mat = []\n",
        "  for _ in range(m):\n",
        "    row = []\n",
        "    for _ in range(n):\n",
        "      row.append(input(\"Enter data: \"))\n",
        "    mat.append(row)\n",
        "  return mat\n",
        "\n",
        "m = 2\n",
        "n = 2\n",
        "Matrix = matrix(m,n)\n",
        "print(Matrix)\n",
        "def index(num, matr):\n",
        "  success = 0\n",
        "  for i in range(len(matr)):\n",
        "    for j in range(len(matr[i])):\n",
        "      matr[i][j] = int(matr[i][j])\n",
        "      if (matr[i][j] == num):\n",
        "        print(\"[\", i, j, \"]\")\n",
        "        success = 1\n",
        "  if (success == 0):\n",
        "    return -1\n",
        "\n",
        "index(1, Matrix)\n",
        "index(20, Matrix)\n"
      ],
      "execution_count": 75,
      "outputs": [
        {
          "output_type": "stream",
          "text": [
            "Enter data: 1\n",
            "Enter data: 2\n",
            "Enter data: 3\n",
            "Enter data: 4\n",
            "[['1', '2'], ['3', '4']]\n",
            "[ 0 0 ]\n"
          ],
          "name": "stdout"
        },
        {
          "output_type": "execute_result",
          "data": {
            "text/plain": [
              "-1"
            ]
          },
          "metadata": {
            "tags": []
          },
          "execution_count": 75
        }
      ]
    },
    {
      "cell_type": "markdown",
      "metadata": {
        "id": "PDr6LhZobcQ6",
        "colab_type": "text"
      },
      "source": [
        "Assignment 3"
      ]
    },
    {
      "cell_type": "code",
      "metadata": {
        "id": "XaTu3urcbdxt",
        "colab_type": "code",
        "colab": {
          "base_uri": "https://localhost:8080/",
          "height": 119
        },
        "outputId": "6110efc7-5274-444b-89da-3625b3b3e977"
      },
      "source": [
        "def frequency(text):\n",
        "  words = text.split()\n",
        "  occurrence = {}\n",
        "  for i in words:\n",
        "    if i in occurrence: \n",
        "      occurrence[i]+=1\n",
        "    else:\n",
        "      occurrence[i] = 1\n",
        "  return(occurrence)\n",
        "\n",
        "x = frequency(\"apple apple orange orange orange banana\")\n",
        "print(x)\n",
        "\n",
        "def show(dic):\n",
        "  print(\"Word     Count\")\n",
        "  print(\"-------------\")\n",
        "  for i in dic:\n",
        "    print('{:8} {:0}'.format(i, dic[i]))\n",
        "\n",
        "show(x)"
      ],
      "execution_count": 43,
      "outputs": [
        {
          "output_type": "stream",
          "text": [
            "{'apple': 2, 'orange': 3, 'banana': 1}\n",
            "Word     Count\n",
            "-------------\n",
            "apple    2\n",
            "orange   3\n",
            "banana   1\n"
          ],
          "name": "stdout"
        }
      ]
    }
  ]
}