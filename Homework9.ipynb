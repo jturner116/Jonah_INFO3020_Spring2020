{
  "nbformat": 4,
  "nbformat_minor": 0,
  "metadata": {
    "colab": {
      "name": "Homework9.ipynb",
      "provenance": [],
      "authorship_tag": "ABX9TyN3RNMvSCpOH5ncYdKLtf/9",
      "include_colab_link": true
    },
    "kernelspec": {
      "name": "python3",
      "display_name": "Python 3"
    }
  },
  "cells": [
    {
      "cell_type": "markdown",
      "metadata": {
        "id": "view-in-github",
        "colab_type": "text"
      },
      "source": [
        "<a href=\"https://colab.research.google.com/github/jturner116/Jonah_INFO3020_Spring2020/blob/master/Homework9.ipynb\" target=\"_parent\"><img src=\"https://colab.research.google.com/assets/colab-badge.svg\" alt=\"Open In Colab\"/></a>"
      ]
    },
    {
      "cell_type": "markdown",
      "metadata": {
        "id": "6l-WmbQf3MVL",
        "colab_type": "text"
      },
      "source": [
        "Number 1"
      ]
    },
    {
      "cell_type": "code",
      "metadata": {
        "id": "AxZp0an727cq",
        "colab_type": "code",
        "colab": {
          "base_uri": "https://localhost:8080/",
          "height": 51
        },
        "outputId": "905853f7-3726-4821-b166-e5f99c61f221"
      },
      "source": [
        "\n",
        "import math  #For rounding up in comparetime()\n",
        "\n",
        "class Mytime:\n",
        "  def __init__(self,hrs=0,mins=0,secs=0):\n",
        "    totalsecs=hrs*3600+mins*60+secs\n",
        "    self.hours=totalsecs//3600\n",
        "    leftoversecs=totalsecs % 3600\n",
        "    self.minutes=leftoversecs // 60\n",
        "    self.seconds=leftoversecs % 60\n",
        "\n",
        "\n",
        "  def increment(self,seconds):\n",
        "    self.seconds+=seconds;\n",
        "    while self.seconds>=60:\n",
        "      self.seconds-=60\n",
        "      self.minutes+=1\n",
        "\n",
        "    while self.minutes>=60:\n",
        "      self.minutes-=60\n",
        "      self.hours+=1\n",
        "  \n",
        "  def to_seconds(self):\n",
        "    return self.hours*3600+self.minutes*60+self.seconds\n",
        "\n",
        "  def __add__(self,other):\n",
        "    return Mytime(0,0,self.to_seconds()+other.to_seconds())\n",
        "\n",
        "  def __str__(self):\n",
        "    return \"the time is {0}:{1}:{2}\".format(self.hours,self.minutes,self.seconds)\n",
        "\n",
        "  def comparetime(self, other):\n",
        "    secs = self.to_seconds() - other.to_seconds()\n",
        "    print(secs)\n",
        "    return (math.ceil(secs/60))\n",
        "\n",
        "time1=Mytime(11,20,43)\n",
        "time2=Mytime(10,20,30)\n",
        "\n",
        "print(\"the interval minutes are about: \", time1.comparetime(time2))\n"
      ],
      "execution_count": 8,
      "outputs": [
        {
          "output_type": "stream",
          "text": [
            "3613\n",
            "the interval minutes are about:  61\n"
          ],
          "name": "stdout"
        }
      ]
    },
    {
      "cell_type": "markdown",
      "metadata": {
        "id": "LG3WgYm6wiqT",
        "colab_type": "text"
      },
      "source": [
        "Number 2"
      ]
    },
    {
      "cell_type": "code",
      "metadata": {
        "id": "b13ItwqewkFa",
        "colab_type": "code",
        "colab": {
          "base_uri": "https://localhost:8080/",
          "height": 68
        },
        "outputId": "e29db04a-1cf5-44a4-cee8-a90b3f4f3043"
      },
      "source": [
        "class Card:\n",
        "  suits=[\"Clubs\",\"Diamonds\",\"Hearts\",\"Spades\"]\n",
        "  ranks=[\"narf\",\"Ace\",\"2\",\"3\",\"4\",\"5\",\"6\",\"7\",\"8\",\"9\",\"10\",\"Jack\",\"Queen\",\"King\"]\n",
        "\n",
        "\n",
        "  def __init__(self,suit=0,rank=0):\n",
        "    self.suit=suit\n",
        "    self.rank=rank\n",
        "\n",
        "  def __str__(self):\n",
        "    return (self.ranks[self.rank]+\" of \"+self.suits[self.suit])\n",
        "\n",
        "  def cmp(self,other):\n",
        "    if self.suit>other.suit:return 1\n",
        "    if self.suit<other.suit:return -1\n",
        "\n",
        "    if self.rank == 1: return 1\n",
        "    if self.rank>other.rank: return 1\n",
        "    if self.rank<other.rank: return -1\n",
        "    return 0\n",
        "\n",
        "  def __eq__(self,other):\n",
        "    return self.cmp(other)==0\n",
        "\n",
        "  def __le__(self,other):\n",
        "    return self.cmp(other)<=0\n",
        "\n",
        "  def __ge__(self,other):\n",
        "    return self.cmp(other)>=0\n",
        "\n",
        "  def __gt__(self,other):\n",
        "    return self.cmp(other)>0\n",
        "\n",
        "  def __lt__(self,other):\n",
        "    return self.cmp(other)<0\n",
        "\n",
        "  def __ne__(self,other):\n",
        "    return self.cmp(other)!=0\n",
        "\n",
        "card1=Card(1,1)\n",
        "print(card1)\n",
        "\n",
        "card2=Card(1,13)\n",
        "print(card2)\n",
        "print(card1>card2)\n"
      ],
      "execution_count": 25,
      "outputs": [
        {
          "output_type": "stream",
          "text": [
            "Ace of Diamonds\n",
            "King of Diamonds\n",
            "True\n"
          ],
          "name": "stdout"
        }
      ]
    },
    {
      "cell_type": "markdown",
      "metadata": {
        "id": "Sey1y5_e1EYi",
        "colab_type": "text"
      },
      "source": [
        "Number 3"
      ]
    },
    {
      "cell_type": "code",
      "metadata": {
        "id": "xEjZ7khp1FuX",
        "colab_type": "code",
        "colab": {
          "base_uri": "https://localhost:8080/",
          "height": 333
        },
        "outputId": "3fe091c4-0c4e-4c63-c858-23526636f85e"
      },
      "source": [
        "def readposint():\n",
        "  num = input(\"Please input a positive integer: \")\n",
        "\n",
        "  try:\n",
        "    num = int(num)\n",
        "  except ValueError:\n",
        "    return \"{0} is not an integer.\".format(num)\n",
        "\n",
        "  if num<0:\n",
        "    neg_error=ValueError(\"{0} is not a positive int\".format(num))\n",
        "    raise neg_error\n",
        "\n",
        "\n",
        "readposint()"
      ],
      "execution_count": 55,
      "outputs": [
        {
          "output_type": "stream",
          "text": [
            "Please input a positive integer: -1\n"
          ],
          "name": "stdout"
        },
        {
          "output_type": "error",
          "ename": "ValueError",
          "evalue": "ignored",
          "traceback": [
            "\u001b[0;31m---------------------------------------------------------------------------\u001b[0m",
            "\u001b[0;31mValueError\u001b[0m                                Traceback (most recent call last)",
            "\u001b[0;32m<ipython-input-55-758d8dab313a>\u001b[0m in \u001b[0;36m<module>\u001b[0;34m()\u001b[0m\n\u001b[1;32m     12\u001b[0m \u001b[0;34m\u001b[0m\u001b[0m\n\u001b[1;32m     13\u001b[0m \u001b[0;34m\u001b[0m\u001b[0m\n\u001b[0;32m---> 14\u001b[0;31m \u001b[0mreadposint\u001b[0m\u001b[0;34m(\u001b[0m\u001b[0;34m)\u001b[0m\u001b[0;34m\u001b[0m\u001b[0;34m\u001b[0m\u001b[0m\n\u001b[0m",
            "\u001b[0;32m<ipython-input-55-758d8dab313a>\u001b[0m in \u001b[0;36mreadposint\u001b[0;34m()\u001b[0m\n\u001b[1;32m      9\u001b[0m   \u001b[0;32mif\u001b[0m \u001b[0mnum\u001b[0m\u001b[0;34m<\u001b[0m\u001b[0;36m0\u001b[0m\u001b[0;34m:\u001b[0m\u001b[0;34m\u001b[0m\u001b[0;34m\u001b[0m\u001b[0m\n\u001b[1;32m     10\u001b[0m     \u001b[0mneg_error\u001b[0m\u001b[0;34m=\u001b[0m\u001b[0mValueError\u001b[0m\u001b[0;34m(\u001b[0m\u001b[0;34m\"{0} is not a positive int\"\u001b[0m\u001b[0;34m.\u001b[0m\u001b[0mformat\u001b[0m\u001b[0;34m(\u001b[0m\u001b[0mnum\u001b[0m\u001b[0;34m)\u001b[0m\u001b[0;34m)\u001b[0m\u001b[0;34m\u001b[0m\u001b[0;34m\u001b[0m\u001b[0m\n\u001b[0;32m---> 11\u001b[0;31m     \u001b[0;32mraise\u001b[0m \u001b[0mneg_error\u001b[0m\u001b[0;34m\u001b[0m\u001b[0;34m\u001b[0m\u001b[0m\n\u001b[0m\u001b[1;32m     12\u001b[0m \u001b[0;34m\u001b[0m\u001b[0m\n\u001b[1;32m     13\u001b[0m \u001b[0;34m\u001b[0m\u001b[0m\n",
            "\u001b[0;31mValueError\u001b[0m: -1 is not a positive int"
          ]
        }
      ]
    },
    {
      "cell_type": "code",
      "metadata": {
        "id": "V7VjuOOuAJ5T",
        "colab_type": "code",
        "colab": {}
      },
      "source": [
        ""
      ],
      "execution_count": 0,
      "outputs": []
    }
  ]
}