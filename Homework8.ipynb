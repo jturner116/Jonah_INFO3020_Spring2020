{
  "nbformat": 4,
  "nbformat_minor": 0,
  "metadata": {
    "colab": {
      "name": "Homework8.ipynb",
      "provenance": [],
      "authorship_tag": "ABX9TyOJls6EdqZqjUGD7ttqdHf9",
      "include_colab_link": true
    },
    "kernelspec": {
      "name": "python3",
      "display_name": "Python 3"
    }
  },
  "cells": [
    {
      "cell_type": "markdown",
      "metadata": {
        "id": "view-in-github",
        "colab_type": "text"
      },
      "source": [
        "<a href=\"https://colab.research.google.com/github/jturner116/Jonah_INFO3020_Spring2020/blob/master/Homework8.ipynb\" target=\"_parent\"><img src=\"https://colab.research.google.com/assets/colab-badge.svg\" alt=\"Open In Colab\"/></a>"
      ]
    },
    {
      "cell_type": "code",
      "metadata": {
        "id": "eNQEBYQWgU-k",
        "colab_type": "code",
        "colab": {
          "base_uri": "https://localhost:8080/",
          "height": 204
        },
        "outputId": "c36f5f75-3896-4663-ef30-e7c1c4775fbc"
      },
      "source": [
        "import math\n",
        "\n",
        "class Point:\n",
        "  def __init__(self,x=0,y=0):\n",
        "    self.x=x\n",
        "    self.y=y\n",
        "\n",
        "  def distance_from_origin(self):\n",
        "    return (self.x**2+self.y**2)**0.5\n",
        "\n",
        "  def __str__(self):\n",
        "    #return \"You can't print me!\"\n",
        "    return \"({0},{1})\".format(self.x,self.y)\n",
        "\n",
        "  def halfway(self,target):\n",
        "    mx=(self.x+target.x)/2\n",
        "    my=(self.y+target.y)/2\n",
        "    return Point(mx,my)\n",
        "  #Number 2\n",
        "  def reflect_x(self):\n",
        "    negy = -1*self.y\n",
        "    return(\"The reflect x of Point{0} is {1}.\".format(self, (self.x, negy)))\n",
        "\n",
        "class Rectangle:\n",
        "    def __init__(self, posn, w, h):\n",
        "        self.corner = posn\n",
        "        self.width = w\n",
        "        self.height = h\n",
        "\n",
        "    def __str__(self):\n",
        "        return \"({0},{1},{2})\".format(self.corner, self.width, self.height)\n",
        "\n",
        "    def grow(self,delta_width,delta_heigh):\n",
        "        self.width+=delta_width\n",
        "        self.height+=delta_heigh\n",
        "\n",
        "    def move(self,dx,dy):\n",
        "        self.corner.x+=dx\n",
        "        self.corner.y+=dy\n",
        "    #Number 3\n",
        "    def area(self):\n",
        "      return(self.width*self.height)\n",
        "    #Number 4\n",
        "    def swap(self):\n",
        "      (self.width, self.height)=(self.height, self.width)\n",
        "\n",
        "    #Number 5  \n",
        "    def boundary(self, point):\n",
        "      if point.x>self.corner.x and point.y>self.corner.y:\n",
        "        a = True\n",
        "      else:\n",
        "        a = False\n",
        "      if point.x<(self.corner.x + self.width) and point.y<(self.corner.y + self.height):\n",
        "        b = True\n",
        "      else:\n",
        "        b = False\n",
        "      if a and b is True:\n",
        "        return True\n",
        "      else:\n",
        "        return False\n",
        "#Number 1\n",
        "def distance(p,q):\n",
        "  deltaX = q.x - p.x\n",
        "  deltaY = q.y - p.y\n",
        "  return math.sqrt(deltaX**2+deltaY**2)\n",
        "\n",
        "p=Point(2,2)\n",
        "q=Point(2,3)\n",
        "print(\"Number 1\")\n",
        "print(distance(p,q))\n",
        "print(\"Number 2\")\n",
        "print(p.reflect_x())\n",
        "\n",
        "box = Rectangle(Point(0,0), 5, 10)\n",
        "print(\"Number 3\")\n",
        "print(\"The area of the box is\", box.area())\n",
        "\n",
        "print(\"Number 4\")\n",
        "print(\"Before swap - Width:\", box.width, \"Height:\", box.height)\n",
        "box.swap()\n",
        "print(\"After swap - Width:\", box.width, \"Height:\", box.height)\n",
        "\n",
        "print(\"Number 5\")\n",
        "print(box.boundary(q))\n",
        "out=Point(100,8)\n",
        "print(box.boundary(out))\n",
        "\n",
        "\n"
      ],
      "execution_count": 32,
      "outputs": [
        {
          "output_type": "stream",
          "text": [
            "Number 1\n",
            "1.0\n",
            "Number 2\n",
            "The reflect x of Point(2,2) is (2, -2).\n",
            "Number 3\n",
            "The area of the box is 50\n",
            "Number 4\n",
            "Before swap - Width: 5 Height: 10\n",
            "After swap - Width: 10 Height: 5\n",
            "True\n",
            "False\n"
          ],
          "name": "stdout"
        }
      ]
    },
    {
      "cell_type": "code",
      "metadata": {
        "id": "vsSNFdyclKpZ",
        "colab_type": "code",
        "colab": {}
      },
      "source": [
        ""
      ],
      "execution_count": 0,
      "outputs": []
    }
  ]
}